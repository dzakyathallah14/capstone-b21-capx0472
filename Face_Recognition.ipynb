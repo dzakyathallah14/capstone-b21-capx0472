{
  "nbformat": 4,
  "nbformat_minor": 0,
  "metadata": {
    "colab": {
      "name": "Face_Recognition.ipynb",
      "provenance": [],
      "collapsed_sections": [],
      "toc_visible": true
    },
    "kernelspec": {
      "name": "python3",
      "display_name": "Python 3"
    },
    "language_info": {
      "name": "python"
    },
    "accelerator": "GPU"
  },
  "cells": [
    {
      "cell_type": "code",
      "metadata": {
        "id": "5MZnOXazaDbW",
        "colab": {
          "base_uri": "https://localhost:8080/"
        },
        "outputId": "567befb5-e073-4f57-8521-40d3144a3c9e"
      },
      "source": [
        "!pip install face_recognition\n",
        "import cv2\n",
        "import numpy as np\n",
        "import face_recognition\n",
        "import os\n",
        "from sklearn.metrics import explained_variance_score"
      ],
      "execution_count": null,
      "outputs": [
        {
          "output_type": "stream",
          "text": [
            "Requirement already satisfied: face_recognition in /usr/local/lib/python3.7/dist-packages (1.3.0)\n",
            "Requirement already satisfied: Click>=6.0 in /usr/local/lib/python3.7/dist-packages (from face_recognition) (7.1.2)\n",
            "Requirement already satisfied: Pillow in /usr/local/lib/python3.7/dist-packages (from face_recognition) (7.1.2)\n",
            "Requirement already satisfied: dlib>=19.7 in /usr/local/lib/python3.7/dist-packages (from face_recognition) (19.18.0)\n",
            "Requirement already satisfied: face-recognition-models>=0.3.0 in /usr/local/lib/python3.7/dist-packages (from face_recognition) (0.3.0)\n",
            "Requirement already satisfied: numpy in /usr/local/lib/python3.7/dist-packages (from face_recognition) (1.19.5)\n"
          ],
          "name": "stdout"
        }
      ]
    },
    {
      "cell_type": "code",
      "metadata": {
        "id": "Prs-oTPqhmlk",
        "colab": {
          "base_uri": "https://localhost:8080/"
        },
        "outputId": "81d6af0a-84a7-402d-f04c-e60f95cf623c"
      },
      "source": [
        "path= '/content/train'\n",
        "test= '/content/test'\n",
        "images = []\n",
        "imagestest = []\n",
        "className = []\n",
        "myList = os.listdir(path)\n",
        "listTest = os.listdir(test)\n",
        "print(myList)\n",
        "print(listTest)"
      ],
      "execution_count": null,
      "outputs": [
        {
          "output_type": "stream",
          "text": [
            "['Elon Musk.jpg', 'Prabskuyyy.jpg', '.ipynb_checkpoints']\n",
            "['Elon Musk.jpg', 'Prabss.jpg', '.ipynb_checkpoints']\n"
          ],
          "name": "stdout"
        }
      ]
    },
    {
      "cell_type": "code",
      "metadata": {
        "id": "xCZ3RILnsoz4",
        "colab": {
          "base_uri": "https://localhost:8080/"
        },
        "outputId": "525b077c-d52b-451e-aabb-4b74c0559d37"
      },
      "source": [
        "for name in myList:\n",
        "  curImage = cv2.imread(f'{path}/{name}',)\n",
        "  images.append(curImage)  \n",
        "  className.append(os.path.splitext(name)[0])\n",
        "print(className)\n",
        "imagestest = cv2.imread(f'test/Elon Musk.jpg',0)\n",
        "\n",
        "print(type(curImage))"
      ],
      "execution_count": null,
      "outputs": [
        {
          "output_type": "stream",
          "text": [
            "['Elon Musk', 'Prabskuyyy', '.ipynb_checkpoints']\n"
          ],
          "name": "stdout"
        }
      ]
    },
    {
      "cell_type": "code",
      "metadata": {
        "colab": {
          "base_uri": "https://localhost:8080/"
        },
        "id": "ii0l4ofawMis",
        "outputId": "8b5e40fe-37ec-4751-c890-bba31ce52510"
      },
      "source": [
        "imagestest"
      ],
      "execution_count": null,
      "outputs": [
        {
          "output_type": "execute_result",
          "data": {
            "text/plain": [
              "array([[ 72,  72,  72, ...,  71,  72,  84],\n",
              "       [ 78,  77,  76, ...,  74,  75,  85],\n",
              "       [ 77,  76,  74, ...,  73,  75,  83],\n",
              "       ...,\n",
              "       [120, 121, 121, ..., 122, 125, 130],\n",
              "       [116, 124, 129, ..., 120, 124, 130],\n",
              "       [121, 123, 123, ..., 122, 126, 132]], dtype=uint8)"
            ]
          },
          "metadata": {
            "tags": []
          },
          "execution_count": 34
        }
      ]
    },
    {
      "cell_type": "code",
      "metadata": {
        "id": "7T7nc19Yu686",
        "colab": {
          "base_uri": "https://localhost:8080/"
        },
        "outputId": "82418b0b-e56f-43ac-ceb6-e27e712d92f5"
      },
      "source": [
        "train_image = face_recognition.load_image_file(\"/content/train/Prabskuyyy.jpg\")\n",
        "test_image = face_recognition.load_image_file(\"/content/test/Prabss.jpg\")\n",
        "\n",
        "train_image_encoding = face_recognition.face_encodings(train_image)[0]\n",
        "test_image_encoding = face_recognition.face_encodings(test_image)[0]\n",
        "\n",
        "results = face_recognition.compare_faces([train_image_encoding], test_image_encoding)\n",
        "\n",
        "print(results)\n",
        "\n",
        "acc = explained_variance_score((train_image_encoding), (test_image_encoding))\n",
        "print(acc)\n",
        "\n",
        "print(results)"
      ],
      "execution_count": null,
      "outputs": [
        {
          "output_type": "stream",
          "text": [
            "[True]\n",
            "0.9262769818167341\n",
            "[True]\n"
          ],
          "name": "stdout"
        }
      ]
    },
    {
      "cell_type": "code",
      "metadata": {
        "colab": {
          "base_uri": "https://localhost:8080/"
        },
        "id": "Y133oqtlsN78",
        "outputId": "a78d85b7-390e-4789-b6ed-8665f1829551"
      },
      "source": [
        "images"
      ],
      "execution_count": null,
      "outputs": [
        {
          "output_type": "execute_result",
          "data": {
            "text/plain": [
              "[array([[[192, 206, 224],\n",
              "         [192, 206, 224],\n",
              "         [192, 206, 224],\n",
              "         ...,\n",
              "         [148,  62,  40],\n",
              "         [148,  64,  39],\n",
              "         [150,  66,  41]],\n",
              " \n",
              "        [[192, 206, 224],\n",
              "         [192, 206, 224],\n",
              "         [192, 206, 224],\n",
              "         ...,\n",
              "         [149,  64,  42],\n",
              "         [150,  66,  41],\n",
              "         [152,  68,  43]],\n",
              " \n",
              "        [[192, 206, 224],\n",
              "         [192, 206, 224],\n",
              "         [193, 207, 225],\n",
              "         ...,\n",
              "         [153,  68,  46],\n",
              "         [153,  69,  44],\n",
              "         [153,  71,  46]],\n",
              " \n",
              "        ...,\n",
              " \n",
              "        [[ 97,  44,  24],\n",
              "         [ 96,  43,  23],\n",
              "         [ 95,  42,  22],\n",
              "         ...,\n",
              "         [130,  55,  33],\n",
              "         [130,  55,  33],\n",
              "         [130,  55,  33]],\n",
              " \n",
              "        [[ 97,  44,  24],\n",
              "         [ 96,  43,  23],\n",
              "         [ 95,  42,  22],\n",
              "         ...,\n",
              "         [130,  55,  33],\n",
              "         [130,  55,  33],\n",
              "         [130,  55,  33]],\n",
              " \n",
              "        [[ 96,  43,  23],\n",
              "         [ 96,  43,  23],\n",
              "         [ 96,  43,  23],\n",
              "         ...,\n",
              "         [130,  55,  33],\n",
              "         [130,  55,  33],\n",
              "         [130,  55,  33]]], dtype=uint8)]"
            ]
          },
          "metadata": {
            "tags": []
          },
          "execution_count": 20
        }
      ]
    },
    {
      "cell_type": "code",
      "metadata": {
        "id": "k6YfS7WBvbb4",
        "colab": {
          "base_uri": "https://localhost:8080/",
          "height": 330
        },
        "outputId": "1cda7f8c-5d42-4676-d208-8ad543475e94"
      },
      "source": [
        "#encodeListKnown = findEncoding(images)\n",
        "#imagestest = cv2.cvtColor(imagestest, cv2.COLOR_BAYER_BG2RGB)\n",
        "#encodeTest = face_recognition.face_encodings(imagestest)\n",
        "\n"
      ],
      "execution_count": null,
      "outputs": [
        {
          "output_type": "error",
          "ename": "error",
          "evalue": "ignored",
          "traceback": [
            "\u001b[0;31m---------------------------------------------------------------------------\u001b[0m",
            "\u001b[0;31merror\u001b[0m                                     Traceback (most recent call last)",
            "\u001b[0;32m<ipython-input-103-d1e79f77d2bd>\u001b[0m in \u001b[0;36m<module>\u001b[0;34m()\u001b[0m\n\u001b[0;32m----> 1\u001b[0;31m \u001b[0mencodeListKnown\u001b[0m \u001b[0;34m=\u001b[0m \u001b[0mfindEncoding\u001b[0m\u001b[0;34m(\u001b[0m\u001b[0mimages\u001b[0m\u001b[0;34m)\u001b[0m\u001b[0;34m\u001b[0m\u001b[0;34m\u001b[0m\u001b[0m\n\u001b[0m\u001b[1;32m      2\u001b[0m \u001b[0mencodeTest\u001b[0m \u001b[0;34m=\u001b[0m \u001b[0mface_recognition\u001b[0m\u001b[0;34m.\u001b[0m\u001b[0mface_encodings\u001b[0m\u001b[0;34m(\u001b[0m\u001b[0mimagestest\u001b[0m\u001b[0;34m)\u001b[0m\u001b[0;34m\u001b[0m\u001b[0;34m\u001b[0m\u001b[0m\n\u001b[1;32m      3\u001b[0m \u001b[0;34m\u001b[0m\u001b[0m\n",
            "\u001b[0;32m<ipython-input-100-b242b32ca8b1>\u001b[0m in \u001b[0;36mfindEncoding\u001b[0;34m(images)\u001b[0m\n\u001b[1;32m      2\u001b[0m   \u001b[0mencodeList\u001b[0m \u001b[0;34m=\u001b[0m \u001b[0;34m[\u001b[0m\u001b[0;34m]\u001b[0m\u001b[0;34m\u001b[0m\u001b[0;34m\u001b[0m\u001b[0m\n\u001b[1;32m      3\u001b[0m   \u001b[0;32mfor\u001b[0m \u001b[0mimg\u001b[0m \u001b[0;32min\u001b[0m \u001b[0mimages\u001b[0m\u001b[0;34m:\u001b[0m\u001b[0;34m\u001b[0m\u001b[0;34m\u001b[0m\u001b[0m\n\u001b[0;32m----> 4\u001b[0;31m     \u001b[0mimg\u001b[0m \u001b[0;34m=\u001b[0m \u001b[0mcv2\u001b[0m\u001b[0;34m.\u001b[0m\u001b[0mcvtColor\u001b[0m\u001b[0;34m(\u001b[0m\u001b[0mimg\u001b[0m\u001b[0;34m,\u001b[0m \u001b[0mcv2\u001b[0m\u001b[0;34m.\u001b[0m\u001b[0mCOLOR_BAYER_BG2RGB\u001b[0m\u001b[0;34m)\u001b[0m\u001b[0;34m\u001b[0m\u001b[0;34m\u001b[0m\u001b[0m\n\u001b[0m\u001b[1;32m      5\u001b[0m     \u001b[0mencode\u001b[0m \u001b[0;34m=\u001b[0m \u001b[0mface_recognition\u001b[0m\u001b[0;34m.\u001b[0m\u001b[0mface_encodings\u001b[0m\u001b[0;34m(\u001b[0m\u001b[0mimg\u001b[0m\u001b[0;34m)\u001b[0m\u001b[0;34m\u001b[0m\u001b[0;34m\u001b[0m\u001b[0m\n\u001b[1;32m      6\u001b[0m     \u001b[0mencodeList\u001b[0m\u001b[0;34m.\u001b[0m\u001b[0mappend\u001b[0m\u001b[0;34m(\u001b[0m\u001b[0mencode\u001b[0m\u001b[0;34m)\u001b[0m\u001b[0;34m\u001b[0m\u001b[0;34m\u001b[0m\u001b[0m\n",
            "\u001b[0;31merror\u001b[0m: OpenCV(4.1.2) /io/opencv/modules/imgproc/src/demosaicing.cpp:1700: error: (-215:Assertion failed) scn == 1 && (dcn == 3 || dcn == 4) in function 'demosaicing'\n"
          ]
        }
      ]
    },
    {
      "cell_type": "code",
      "metadata": {
        "id": "EYWGXQZ1v5Fw",
        "colab": {
          "base_uri": "https://localhost:8080/",
          "height": 162
        },
        "outputId": "7ff1e6fc-da5c-4a66-903e-64db7e8c1a93"
      },
      "source": [
        "#results = face_recognition.compare_faces(encodeListKnown, encodeTest)"
      ],
      "execution_count": null,
      "outputs": [
        {
          "output_type": "error",
          "ename": "NameError",
          "evalue": "ignored",
          "traceback": [
            "\u001b[0;31m---------------------------------------------------------------------------\u001b[0m",
            "\u001b[0;31mNameError\u001b[0m                                 Traceback (most recent call last)",
            "\u001b[0;32m<ipython-input-85-325905097e84>\u001b[0m in \u001b[0;36m<module>\u001b[0;34m()\u001b[0m\n\u001b[0;32m----> 1\u001b[0;31m \u001b[0mresults\u001b[0m \u001b[0;34m=\u001b[0m \u001b[0mface_recognition\u001b[0m\u001b[0;34m.\u001b[0m\u001b[0mcompare_faces\u001b[0m\u001b[0;34m(\u001b[0m\u001b[0mencodeListKnown\u001b[0m\u001b[0;34m,\u001b[0m \u001b[0mencodeTest\u001b[0m\u001b[0;34m)\u001b[0m\u001b[0;34m\u001b[0m\u001b[0;34m\u001b[0m\u001b[0m\n\u001b[0m",
            "\u001b[0;31mNameError\u001b[0m: name 'encodeListKnown' is not defined"
          ]
        }
      ]
    },
    {
      "cell_type": "code",
      "metadata": {
        "id": "hwho5FTAzGwX"
      },
      "source": [
        "for i in results:\n",
        "  if results == True:\n",
        "    print(\"It's a picture \" + className[i])"
      ],
      "execution_count": null,
      "outputs": []
    },
    {
      "cell_type": "code",
      "metadata": {
        "id": "N2d8Unel3XlI"
      },
      "source": [
        ""
      ],
      "execution_count": null,
      "outputs": []
    }
  ]
}