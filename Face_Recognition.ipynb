{
  "nbformat": 4,
  "nbformat_minor": 0,
  "metadata": {
    "accelerator": "GPU",
    "colab": {
      "name": "Face_Recognition Fixx.ipynb",
      "provenance": [],
      "collapsed_sections": [],
      "toc_visible": true
    },
    "kernelspec": {
      "display_name": "Python 3",
      "name": "python3"
    },
    "language_info": {
      "name": "python"
    }
  },
  "cells": [
    {
      "cell_type": "code",
      "metadata": {
        "id": "5MZnOXazaDbW"
      },
      "source": [
        "!pip install face_recognition\n",
        "!pip install --upgrade pip\n",
        "from PIL import Image\n",
        "import cv2\n",
        "import numpy as np\n",
        "import face_recognition\n",
        "import os\n",
        "import shutil\n",
        "from sklearn.metrics import explained_variance_score"
      ],
      "execution_count": null,
      "outputs": []
    },
    {
      "cell_type": "code",
      "metadata": {
        "id": "ZmoAPQ5HItJ1"
      },
      "source": [
        "from google.colab import auth\n",
        "auth.authenticate_user()"
      ],
      "execution_count": null,
      "outputs": []
    },
    {
      "cell_type": "code",
      "metadata": {
        "id": "BiMF93rHJKbk"
      },
      "source": [
        "!curl https://sdk.cloud.google.com | bash"
      ],
      "execution_count": null,
      "outputs": []
    },
    {
      "cell_type": "code",
      "metadata": {
        "id": "aLoFRiwyBDLT"
      },
      "source": [
        "from google.cloud import storage\n",
        "import os\n",
        "\n",
        "os.environ[\"Bangkit Capstone Project\"] = \"rock-web-312913\"\n",
        "\n",
        "GOOGLE_APPLICATION_CREDENTIALS='creds.json'\n",
        "PROJECT_ID='rock-web-312913'"
      ],
      "execution_count": null,
      "outputs": []
    },
    {
      "cell_type": "code",
      "metadata": {
        "id": "imkZpfT_ZoeO"
      },
      "source": [
        "#informasi path di gcloud dan local\n",
        "\n",
        "#bucket cloud storage\n",
        "train ='training_pictures-1'\n",
        "test = 'test_pictures-1'\n",
        "\n",
        "#local directory\n",
        "local_train_dir_path = '/content/train'\n",
        "local_test_dir_path = '/content/test'\n"
      ],
      "execution_count": null,
      "outputs": []
    },
    {
      "cell_type": "code",
      "metadata": {
        "id": "V2gniJ_Q8Lmi"
      },
      "source": [
        "# Fungsi untuk mengecek list yang ada pada bucket test di cloud storage source blob\n",
        "# dan membuat list yang ada di dalamnya\n",
        "\n",
        "source_blob_test = []\n",
        "\n",
        "def list_blobs(bucket_name):\n",
        "    \"\"\"Lists all the blobs in the bucket.\"\"\"\n",
        "    # bucket_name = \"your-bucket-name\"\n",
        "    \n",
        "    storage_client = storage.Client.from_service_account_json(GOOGLE_APPLICATION_CREDENTIALS)\n",
        "\n",
        "    # Note: Client.list_blobs requires at least package version 1.17.0.\n",
        "    blobs = storage_client.list_blobs(bucket_name)\n",
        "\n",
        "    for blob in blobs:\n",
        "        print(blob.name)\n",
        "        source_blob_test.append(blob.name)\n",
        "\n",
        "list_blobs(test)\n",
        "print(source_blob_test)"
      ],
      "execution_count": null,
      "outputs": []
    },
    {
      "cell_type": "code",
      "metadata": {
        "id": "bjD-Hd8tR8Jk"
      },
      "source": [
        "user = source_blob_test[0]\n",
        "\n",
        "# Fungsi untuk mengganti nama blob yang ada pada bucket test di cloud storage\n",
        "\n",
        "def rename_blob(bucket_name, blob_name, new_name):\n",
        "    \"\"\"Renames a blob.\"\"\"\n",
        "    # bucket_name = \"your-bucket-name\"\n",
        "    # blob_name = \"your-object-name\"\n",
        "    # new_name = \"new-object-name\"\n",
        "\n",
        "    storage_client = storage.Client.from_service_account_json(GOOGLE_APPLICATION_CREDENTIALS)\n",
        "    bucket = storage_client.bucket(bucket_name)\n",
        "    blob = bucket.blob(blob_name)\n",
        "\n",
        "    new_blob = bucket.rename_blob(blob, new_name)\n",
        "\n",
        "    print(\"Blob {} has been renamed to {}\".format(blob.name, new_blob.name))\n",
        "\n",
        "rename_blob(test, user, user.lower())\n"
      ],
      "execution_count": null,
      "outputs": []
    },
    {
      "cell_type": "code",
      "metadata": {
        "id": "QTl8mPc0Sqb6"
      },
      "source": [
        "# Nama pengguna setelah di rename menjadi lower\n",
        "\n",
        "username = user.lower()\n",
        "\n",
        "print(username)"
      ],
      "execution_count": null,
      "outputs": []
    },
    {
      "cell_type": "code",
      "metadata": {
        "id": "zUo1icbLhxXf"
      },
      "source": [
        "# Fungsi untuk mengecek list yang ada pada bucket train di cloud storage source blob\n",
        "# dan membuat list yang ada di dalamnya\n",
        "\n",
        "source_blob_train = []\n",
        "\n",
        "def list_blobs_train(bucket_name):\n",
        "    \"\"\"Lists all the blobs in the bucket.\"\"\"\n",
        "    # bucket_name = \"your-bucket-name\"\n",
        "    \n",
        "    storage_client = storage.Client.from_service_account_json(GOOGLE_APPLICATION_CREDENTIALS)\n",
        "\n",
        "    # Note: Client.list_blobs requires at least package version 1.17.0.\n",
        "    blobs = storage_client.list_blobs(bucket_name)\n",
        "\n",
        "    for blob in blobs:\n",
        "        print(blob.name)\n",
        "        source_blob_train.append(blob.name)\n",
        "\n",
        "list_blobs_train(train)\n"
      ],
      "execution_count": null,
      "outputs": []
    },
    {
      "cell_type": "code",
      "metadata": {
        "id": "PQagOaGqg8LF"
      },
      "source": [
        "#Download blob dari bucket untuk test\n",
        "\n",
        "list_username_test = os.listdir(local_test_dir_path)\n",
        "\n",
        "def download_blob_test(bucket_name, source_blob_name, destination_file_name):\n",
        "    #bikin file kosong format jpg\n",
        "    \n",
        "    if username not in list_username_test:\n",
        "      open(os.path.join(\"/content/\", username), \"w+\")\n",
        "      print(\"data berhasil dimasukkan\")\n",
        "      \n",
        "      \"\"\"Downloads a blob from the bucket.\"\"\"\n",
        "      # bucket_name = \"your-bucket-name\"\n",
        "      # source_blob_name = \"storage-object-name\"\n",
        "      # destination_file_name = \"local/path/to/file\"\n",
        "\n",
        "      storage_client = storage.Client.from_service_account_json(GOOGLE_APPLICATION_CREDENTIALS)\n",
        "      bucket = storage_client.bucket(bucket_name)\n",
        "\n",
        "      # Construct a client side representation of a blob.\n",
        "      # Note `Bucket.blob` differs from `Bucket.get_blob` as it doesn't retrieve\n",
        "      # any content from Google Cloud Storage. As we don't need additional data,\n",
        "      # using `Bucket.blob` is preferred here.\n",
        "      blob = bucket.blob(source_blob_name)\n",
        "      blob.download_to_filename(destination_file_name)\n",
        "\n",
        "      print(\n",
        "          \"Blob {} downloaded to {}.\".format(\n",
        "              source_blob_name, destination_file_name\n",
        "          )\n",
        "      )\n",
        "      shutil.move(\"/content/{}\".format(username), \"/content/test/{}\".format(username))\n",
        "      print(\"Username berhasil dipindah ke directory test temporary\")\n",
        "    elif username in list_username:\n",
        "      print(\"data gagal dimasukkan\")\n",
        "\n",
        "download_blob_test(test, username, username)"
      ],
      "execution_count": null,
      "outputs": []
    },
    {
      "cell_type": "code",
      "metadata": {
        "id": "oYluFqG-tOeu"
      },
      "source": [
        "#Download blob bucket untuk train\n",
        "\n",
        "list_username_train = os.listdir(local_train_dir_path)\n",
        "\n",
        "def download_blob_train(bucket_name, source_blob_name, destination_file_name):\n",
        "    #bikin file kosong format jpg\n",
        "\n",
        "    if username not in list_username:\n",
        "      open(os.path.join(\"/content/\", username), \"w+\")\n",
        "      print(\"data berhasil dimasukkan\")\n",
        "      \n",
        "      \"\"\"Downloads a blob from the bucket.\"\"\"\n",
        "      # bucket_name = \"your-bucket-name\"\n",
        "      # source_blob_name = \"storage-object-name\"\n",
        "      # destination_file_name = \"local/path/to/file\"\n",
        "\n",
        "      storage_client = storage.Client.from_service_account_json(GOOGLE_APPLICATION_CREDENTIALS)\n",
        "      bucket = storage_client.bucket(bucket_name)\n",
        "\n",
        "      # Construct a client side representation of a blob.\n",
        "      # Note `Bucket.blob` differs from `Bucket.get_blob` as it doesn't retrieve\n",
        "      # any content from Google Cloud Storage. As we don't need additional data,\n",
        "      # using `Bucket.blob` is preferred here.\n",
        "      blob = bucket.blob(source_blob_name)\n",
        "      blob.download_to_filename(destination_file_name)\n",
        "\n",
        "      print(\n",
        "          \"Blob {} downloaded to {}.\".format(\n",
        "              source_blob_name, destination_file_name\n",
        "          )\n",
        "      )\n",
        "      shutil.move(\"/content/{}\".format(username), \"/content/train/{}\".format(username))\n",
        "      print(\"Username berhasil dipindah ke directory train temporary\")\n",
        "    elif username in list_username:\n",
        "      print(\"Data gagal dimasukkan\")\n",
        "\n",
        "if username in source_blob_train:\n",
        "  download_blob_train(train, username, username)\n",
        "else:\n",
        "  print(\"Username tidak terdaftar\")"
      ],
      "execution_count": null,
      "outputs": []
    },
    {
      "cell_type": "code",
      "metadata": {
        "id": "QVevg2-U-jQe"
      },
      "source": [
        "images = []\n",
        "imagestest = []\n",
        "className = []\n",
        "myList = os.listdir(local_train_dir_path)\n",
        "listTest = os.listdir(local_test_dir_path)\n",
        "print(myList)\n",
        "print(listTest)"
      ],
      "execution_count": null,
      "outputs": []
    },
    {
      "cell_type": "code",
      "metadata": {
        "id": "d61kcg083s9V"
      },
      "source": [
        "# Fungsi untuk meng-upload file test yang belum terdaftar ke bucket train di cloud storage\n",
        "\n",
        "def upload_blob(bucket_name, source_file_name, destination_blob_name):\n",
        "    \"\"\"Uploads a file to the bucket.\"\"\"\n",
        "    # The ID of your GCS bucket\n",
        "    # bucket_name = \"your-bucket-name\"\n",
        "    # The path to your file to upload\n",
        "    # source_file_name = \"local/path/to/file\"\n",
        "    # The ID of your GCS object\n",
        "    # destination_blob_name = \"storage-object-name\"\n",
        "\n",
        "    storage_client = storage.Client.from_service_account_json(GOOGLE_APPLICATION_CREDENTIALS)\n",
        "    bucket = storage_client.bucket(bucket_name)\n",
        "    blob = bucket.blob(destination_blob_name)\n",
        "\n",
        "    blob.upload_from_filename(source_file_name)\n",
        "\n",
        "    print(\n",
        "        \"File {} berhasil di upload ke {}.\".format(\n",
        "            source_file_name, destination_blob_name\n",
        "        )\n",
        "    )"
      ],
      "execution_count": null,
      "outputs": []
    },
    {
      "cell_type": "code",
      "metadata": {
        "id": "0jROROOYTS7b"
      },
      "source": [
        "# fungsi untuk men-delete file test yang ada pada bucket test di cloud storage\n",
        "# karena nantinya file yang tidak terdaftar akan dipindah ke bucket train di cloud storage\n",
        "\n",
        "def delete_blob(bucket_name, blob_name):\n",
        "    \"\"\"Deletes a blob from the bucket.\"\"\"\n",
        "    # bucket_name = \"your-bucket-name\"\n",
        "    # blob_name = \"your-object-name\"\n",
        "\n",
        "    storage_client = storage.Client.from_service_account_json(GOOGLE_APPLICATION_CREDENTIALS)\n",
        "\n",
        "    bucket = storage_client.bucket(bucket_name)\n",
        "    blob = bucket.blob(blob_name)\n",
        "    blob.delete()\n",
        "\n",
        "    print(\"Blob {} di bucket test pada cloud storage berhasil dihapus.\".format(blob_name))"
      ],
      "execution_count": null,
      "outputs": []
    },
    {
      "cell_type": "markdown",
      "metadata": {
        "id": "JTiDpykyYIZX"
      },
      "source": [
        "# Bagian Baru"
      ]
    },
    {
      "cell_type": "code",
      "metadata": {
        "id": "xCZ3RILnsoz4"
      },
      "source": [
        "# Pattern matching antara train dan test pada local yang telah di download dari bucket\n",
        "\n",
        "foto_test = (source_blob_test[0])\n",
        "print(foto_test)\n",
        "\n",
        "if foto_test in source_blob_train :\n",
        "  for name in myList:\n",
        "    curImage = cv2.imread(username, 0)\n",
        "    images.append(curImage)  \n",
        "    className.append(os.path.splitext(name)[0])\n",
        "  print(className)\n",
        "  imagestest = cv2.imread(username,0)\n",
        "\n",
        "# pattern matching foto test dengan train\n",
        "\n",
        "  train_image = face_recognition.load_image_file(\"/content/train/{}\".format(str(username)))\n",
        "  test_image = face_recognition.load_image_file(\"/content/test/{}\".format(str(username)))\n",
        "\n",
        "  train_image_encoding = face_recognition.face_encodings(train_image)[0]\n",
        "  test_image_encoding = face_recognition.face_encodings(test_image)[0]\n",
        "\n",
        "  results = face_recognition.compare_faces([train_image_encoding], test_image_encoding)\n",
        "\n",
        "  print(results)\n",
        "\n",
        "  acc = explained_variance_score((train_image_encoding), (test_image_encoding))\n",
        "  print(acc)\n",
        "\n",
        "# hapus file test\n",
        "  os.remove(\"/content/test/{}\".format(str(username)))\n",
        "\n",
        "# hapus file train\n",
        "  os.remove(\"/content/train/{}\".format(str(username)))\n",
        "\n",
        "# hapus file test yang ada di bucket test pada cloud storage\n",
        "  delete_blob(test, username)\n",
        "\n",
        "else:\n",
        "  print(\"Data akan disimpan pada cloud storage\")\n",
        "  upload_blob(train, \"/content/test/{}\".format(str(username)), username)\n",
        "\n",
        "# hapus file test\n",
        "  os.remove(\"/content/test/{}\".format(str(username)))\n",
        "\n",
        "# hapus file test yang ada di bucket test pada cloud storage\n",
        "  delete_blob(test, username)\n",
        "\n",
        "\n"
      ],
      "execution_count": null,
      "outputs": []
    }
  ]
}